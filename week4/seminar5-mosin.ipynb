{
 "cells": [
  {
   "cell_type": "markdown",
   "metadata": {},
   "source": [
    "***Vasiliy Mosin***"
   ]
  },
  {
   "cell_type": "code",
   "execution_count": 1,
   "metadata": {
    "collapsed": false
   },
   "outputs": [],
   "source": [
    "import numpy as np\n",
    "import theano\n",
    "import theano.tensor as T\n",
    "import lasagne\n",
    "import os\n",
    "#thanks @keskarnitish"
   ]
  },
  {
   "cell_type": "markdown",
   "metadata": {},
   "source": [
    "# Generate names\n",
    "* Struggle to find a name for the variable? Let's see how you'll come up with a name for your son/daughter. Surely no human has expertize over what is a good child name, so let us train NN instead.\n",
    "* Dataset contains ~8k human names from different cultures[in latin transcript]\n",
    "* Objective (toy problem): learn a generative model over names."
   ]
  },
  {
   "cell_type": "code",
   "execution_count": 2,
   "metadata": {
    "collapsed": false
   },
   "outputs": [],
   "source": [
    "start_token = \" \"\n",
    "\n",
    "with open(\"names\") as f:\n",
    "    names = f.read()[:-1].split('\\n')\n",
    "    names = [start_token+name for name in names]"
   ]
  },
  {
   "cell_type": "code",
   "execution_count": 3,
   "metadata": {
    "collapsed": false
   },
   "outputs": [
    {
     "name": "stdout",
     "output_type": "stream",
     "text": [
      "n samples =  7944\n",
      " Abagael\n",
      " Claresta\n",
      " Glory\n",
      " Liliane\n",
      " Prissie\n",
      " Geeta\n",
      " Giovanne\n",
      " Piggy\n"
     ]
    }
   ],
   "source": [
    "print 'n samples = ',len(names)\n",
    "for x in names[::1000]:\n",
    "    print x"
   ]
  },
  {
   "cell_type": "markdown",
   "metadata": {},
   "source": [
    "# Text processing"
   ]
  },
  {
   "cell_type": "code",
   "execution_count": 4,
   "metadata": {
    "collapsed": false
   },
   "outputs": [
    {
     "name": "stdout",
     "output_type": "stream",
     "text": [
      "n_tokens =  55\n"
     ]
    }
   ],
   "source": [
    "#all unique characters go here\n",
    "token_set = set()\n",
    "for name in names:\n",
    "    for letter in name:\n",
    "        token_set.add(letter)\n",
    "\n",
    "tokens = list(token_set)\n",
    "\n",
    "print 'n_tokens = ',len(tokens)"
   ]
  },
  {
   "cell_type": "code",
   "execution_count": 5,
   "metadata": {
    "collapsed": false
   },
   "outputs": [],
   "source": [
    "#!token_to_id = <dictionary of symbol -> its identifier (index in tokens list)>\n",
    "token_to_id = {t:i for i,t in enumerate(tokens) }\n",
    "\n",
    "#!id_to_token = < dictionary of symbol identifier -> symbol itself>\n",
    "id_to_token = {i:t for i,t in enumerate(tokens)}"
   ]
  },
  {
   "cell_type": "code",
   "execution_count": 6,
   "metadata": {
    "collapsed": false
   },
   "outputs": [
    {
     "data": {
      "image/png": "[encoded data removed]",
      "text/plain": [
       "<matplotlib.figure.Figure at 0x7fa995db7d90>"
      ]
     },
     "metadata": {},
     "output_type": "display_data"
    }
   ],
   "source": [
    "import matplotlib.pyplot as plt\n",
    "%matplotlib inline\n",
    "plt.hist(map(len,names),bins=25);\n",
    "\n",
    "# truncate names longer than MAX_LEN characters. \n",
    "MAX_LEN = min([60,max(list(map(len,names)))])\n",
    "#ADJUST IF YOU ARE UP TO SOMETHING SERIOUS"
   ]
  },
  {
   "cell_type": "markdown",
   "metadata": {},
   "source": [
    "### Cast everything from symbols into identifiers"
   ]
  },
  {
   "cell_type": "code",
   "execution_count": 7,
   "metadata": {
    "collapsed": false
   },
   "outputs": [],
   "source": [
    "names_ix = list(map(lambda name: list(map(token_to_id.get,name)),names))\n",
    "\n",
    "\n",
    "#crop long names and pad short ones\n",
    "for i in range(len(names_ix)):\n",
    "    names_ix[i] = names_ix[i][:MAX_LEN] #crop too long\n",
    "    \n",
    "    if len(names_ix[i]) < MAX_LEN:\n",
    "        names_ix[i] += [token_to_id[\" \"]]*(MAX_LEN - len(names_ix[i])) #pad too short\n",
    "        \n",
    "assert len(set(map(len,names_ix)))==1\n",
    "\n",
    "names_ix = np.array(names_ix)"
   ]
  },
  {
   "cell_type": "markdown",
   "metadata": {},
   "source": [
    "# Input variables"
   ]
  },
  {
   "cell_type": "code",
   "execution_count": 8,
   "metadata": {
    "collapsed": true
   },
   "outputs": [],
   "source": [
    "input_sequence = T.matrix('token sequencea','int32')\n",
    "target_values = T.matrix('actual next token','int32')"
   ]
  },
  {
   "cell_type": "markdown",
   "metadata": {},
   "source": [
    "# Build NN\n",
    "\n",
    "You will be building a model that takes token sequence and predicts next token\n",
    "\n",
    "\n",
    "* iput sequence\n",
    "* one-hot / embedding\n",
    "* recurrent layer(s)\n",
    "* otput layer(s) that predict output probabilities\n"
   ]
  },
  {
   "cell_type": "code",
   "execution_count": 10,
   "metadata": {
    "collapsed": true
   },
   "outputs": [],
   "source": [
    "from lasagne.layers import InputLayer,DenseLayer,EmbeddingLayer\n",
    "from lasagne.layers import RecurrentLayer,LSTMLayer,GRULayer,CustomRecurrentLayer"
   ]
  },
  {
   "cell_type": "code",
   "execution_count": 11,
   "metadata": {
    "collapsed": false
   },
   "outputs": [],
   "source": [
    "l_in = lasagne.layers.InputLayer(shape=(None, None),input_var=input_sequence)\n",
    "\n",
    "#!<Your neural network>\n",
    "l_emb = lasagne.layers.EmbeddingLayer(l_in, len(tokens), 40)\n",
    "\n",
    "l_rnn = lasagne.layers.RecurrentLayer(l_emb,40,nonlinearity=lasagne.nonlinearities.tanh)\n",
    "\n",
    "#flatten batch and time to be compatible with feedforward layers (will un-flatten later)\n",
    "l_rnn_flat = lasagne.layers.reshape(l_rnn, (-1,l_rnn.output_shape[-1]))\n",
    "\n",
    "l_out = lasagne.layers.DenseLayer(l_rnn_flat,len(tokens), nonlinearity=lasagne.nonlinearities.softmax)"
   ]
  },
  {
   "cell_type": "code",
   "execution_count": 12,
   "metadata": {
    "collapsed": false
   },
   "outputs": [
    {
     "name": "stdout",
     "output_type": "stream",
     "text": [
      "[W, input_to_hidden.W, input_to_hidden.b, hidden_to_hidden.W, W, b]\n"
     ]
    }
   ],
   "source": [
    "# Model weights\n",
    "weights = lasagne.layers.get_all_params(l_out,trainable=True)\n",
    "print weights"
   ]
  },
  {
   "cell_type": "code",
   "execution_count": 13,
   "metadata": {
    "collapsed": false
   },
   "outputs": [],
   "source": [
    "network_output = lasagne.layers.get_output(l_out)\n",
    "#If you use dropout do not forget to create deterministic version for evaluation"
   ]
  },
  {
   "cell_type": "code",
   "execution_count": 14,
   "metadata": {
    "collapsed": false
   },
   "outputs": [],
   "source": [
    "predicted_probabilities_flat = network_output\n",
    "correct_answers_flat = target_values.ravel()\n",
    "\n",
    "loss = T.mean(lasagne.objectives.categorical_crossentropy(predicted_probabilities_flat, correct_answers_flat))\n",
    "#<Loss function - a simple categorical crossentropy will do, maybe add some regularizer>\n",
    "\n",
    "updates = lasagne.updates.adam(loss,weights)"
   ]
  },
  {
   "cell_type": "markdown",
   "metadata": {},
   "source": [
    "# Compiling it"
   ]
  },
  {
   "cell_type": "code",
   "execution_count": 15,
   "metadata": {
    "collapsed": false
   },
   "outputs": [],
   "source": [
    "#training\n",
    "train = theano.function([input_sequence, target_values], loss, updates=updates, allow_input_downcast=True)\n",
    "\n",
    "#computing loss without training\n",
    "compute_cost = theano.function([input_sequence, target_values], loss, allow_input_downcast=True)"
   ]
  },
  {
   "cell_type": "markdown",
   "metadata": {},
   "source": [
    "# generation\n",
    "\n",
    "Simple: \n",
    "* get initial context(seed), \n",
    "* predict next token probabilities,\n",
    "* sample next token, \n",
    "* add it to the context\n",
    "* repeat from step 2\n",
    "\n",
    "You'll get a more detailed info on how it works in the homework section."
   ]
  },
  {
   "cell_type": "code",
   "execution_count": 16,
   "metadata": {
    "collapsed": true
   },
   "outputs": [],
   "source": [
    "#compile the function that computes probabilities for next token given previous text.\n",
    "\n",
    "#reshape back into original shape\n",
    "next_word_probas = network_output.reshape((input_sequence.shape[0],input_sequence.shape[1],len(tokens)))\n",
    "#predictions for next tokens (after sequence end)\n",
    "last_word_probas = next_word_probas[:,-1]\n",
    "probs = theano.function([input_sequence],last_word_probas,allow_input_downcast=True)"
   ]
  },
  {
   "cell_type": "code",
   "execution_count": 17,
   "metadata": {
    "collapsed": false
   },
   "outputs": [],
   "source": [
    "def generate_sample(seed_phrase=None,N=MAX_LEN,t=1,n_snippets=1):\n",
    "    '''\n",
    "    The function generates text given a phrase of length at least SEQ_LENGTH.\n",
    "        \n",
    "    parameters:\n",
    "        sample_fun - max_ or proportional_sample_fun or whatever else you implemented\n",
    "        \n",
    "        The phrase is set using the variable seed_phrase\n",
    "\n",
    "        The optional input \"N\" is used to set the number of characters of text to predict.     \n",
    "    '''\n",
    "    if seed_phrase is None:\n",
    "        seed_phrase=start_token\n",
    "    if len(seed_phrase) > MAX_LEN:\n",
    "        seed_phrase = seed_phrase[-MAX_LEN:]\n",
    "    assert type(seed_phrase) is str\n",
    "\n",
    "    snippets = []\n",
    "    for _ in range(n_snippets):\n",
    "        sample_ix = []\n",
    "        x = map(lambda c: token_to_id.get(c,0), seed_phrase)\n",
    "        x = np.array([x])\n",
    "\n",
    "        for i in range(N):\n",
    "            # Pick the character that got assigned the highest probability\n",
    "            p = probs(x).ravel()\n",
    "            p = p**t / np.sum(p**t)\n",
    "            ix = np.random.choice(np.arange(len(tokens)),p=p)\n",
    "            sample_ix.append(ix)\n",
    "\n",
    "            x = np.hstack((x[-MAX_LEN+1:],[[ix]]))\n",
    "\n",
    "        random_snippet = seed_phrase + ''.join(id_to_token[ix] for ix in sample_ix)    \n",
    "        snippets.append(random_snippet)\n",
    "        \n",
    "    print(\"----\\n %s \\n----\" % '; '.join(snippets))"
   ]
  },
  {
   "cell_type": "markdown",
   "metadata": {},
   "source": [
    "# Model training\n",
    "\n",
    "Here you can tweak parameters or insert your generation function\n",
    "\n",
    "\n",
    "__Once something word-like starts generating, try increasing seq_length__\n",
    "\n"
   ]
  },
  {
   "cell_type": "code",
   "execution_count": 18,
   "metadata": {
    "collapsed": true
   },
   "outputs": [],
   "source": [
    "def sample_batch(data, batch_size):\n",
    "    \n",
    "    rows = data[np.random.randint(0,len(data),size=batch_size)]\n",
    "    \n",
    "    return rows[:,:-1],rows[:,1:]"
   ]
  },
  {
   "cell_type": "code",
   "execution_count": 19,
   "metadata": {
    "collapsed": false
   },
   "outputs": [
    {
     "name": "stdout",
     "output_type": "stream",
     "text": [
      "Training ...\n",
      "Generated names\n",
      "----\n",
      "  fmDIvrCVeWLicJFf;  'MEJtooj tHUTiYa;  mDhNZ qmlKxaWIoq;  dUzTRpqbKQdOyBCC;  eXvqhdI'AWE-gwD-;  SwnwSGWwvuiPs-St;  LgVeUPlgBoKeywFV;  'vvzB-i AnJYvipH;  NVLAHpEpnAuSQjub;  be fBfCXfi mpUfT \n",
      "----\n",
      "Epoch 0 average loss = 1.55457510227\n",
      "Generated names\n",
      "----\n",
      "  Jaraa           ;  Aeoara    n     ;  Rwii            ;  Dhry            ;  Menyne       c  ;  Mcg             ;  Daninn          ;  Axotad          ;  Ga            o ;  Eenra            \n",
      "----\n",
      "Epoch 1 average loss = 1.17519511991\n",
      "Generated names\n",
      "----\n",
      "  Kernny          ;  Fbylenrvi       ;  Slebme          ;  Deman           ;  Dhasna          ;  Marotsin        ;  Hrahay          ;  Nenk            ;  Siselo          ;  Hudylo           \n",
      "----\n",
      "Epoch 2 average loss = 1.128982772\n",
      "Generated names\n",
      "----\n",
      "  Glrha           ;  Kysercal        ;  Maky            ;  Leate           ;  Cerelsad        ;  Cariame         ;  Nasm            ;  Lha             ;  Arsiellaritny   ;  Tadee            \n",
      "----\n",
      "Epoch 3 average loss = 1.10848990658\n",
      "Generated names\n",
      "----\n",
      "  Amavie          ;  Zisei           ;  Blmrie          ;  Mirialenda      ;  Jeyn            ;  Frema           ;  Haela           ;  Kine            ;  Hiane           ;  Mivoy            \n",
      "----\n",
      "Epoch 4 average loss = 1.08095684437\n",
      "Generated names\n",
      "----\n",
      "  Javarle         ;  Shaculie        ;  Jic Moentan     ;  Fginand         ;  Trid            ;  Na              ;  Saryi           ;  Domtica         ;  Tilris          ;  Ersiky           \n",
      "----\n",
      "Epoch 5 average loss = 1.06825420003\n",
      "Generated names\n",
      "----\n",
      "  Shoveet         ;  Meushann        ;  Marin           ;  Lyyt            ;  Shalena         ;  Thigie          ;  NonZad          ;  Fa'             ;  Palg            ;  Mouberdeny       \n",
      "----\n",
      "Epoch 6 average loss = 1.05574907553\n",
      "Generated names\n",
      "----\n",
      "  Cheush          ;  Hulle           ;  Alfew           ;  Therrly         ;  Gan C           ;  Brodril         ;  Acinee          ;  Haride          ;  ERafidal        ;  Studa            \n",
      "----\n",
      "Epoch 7 average loss = 1.04404105491\n",
      "Generated names\n",
      "----\n",
      "  Wile            ;  Szana           ;  Lasily          ;  Cruceil         ;  Allemia         ;  Juna            ;  Erene           ;  Eutha           ;  Nacuid          ;  Keth             \n",
      "----\n",
      "Epoch 8 average loss = 1.03529834703\n",
      "Generated names\n",
      "----\n",
      "  Vissha          ;  Annee           ;  Lettan          ;  Mahrie          ;  Nierrsa         ;  Jerdo           ;  Haina           ;  Meobor          ;  Klani           ;  Korkie           \n",
      "----\n",
      "Epoch 9 average loss = 1.0310766516\n",
      "Generated names\n",
      "----\n",
      "  Cunneoine       ;  Marrer          ;  Cevrone         ;  Mardin          ;  Audic           ;  Lonetia         ;  Petrillina      ;  Frinde          ;  Cidgi           ;  Vahar            \n",
      "----\n",
      "Epoch 10 average loss = 1.02371547495\n",
      "Generated names\n",
      "----\n",
      "  Jandy           ;  Rodistee        ;   Annesh         ;  Cherr           ;  Taudia          ;  Heray           ;  Mie             ;  Ennamiard       ;  Ballne          ;  Maedin           \n",
      "----\n",
      "Epoch 11 average loss = 1.01501259026\n",
      "Generated names\n",
      "----\n",
      "  Ska             ;  Ray             ;  Erdalnia        ;  Royde           ;  Malisss         ;  Gasice          ;  Jode            ;  Mandorminne     ;  Chanten         ;  Revatia          \n",
      "----\n",
      "Epoch 12 average loss = 1.00681627112\n",
      "Generated names\n",
      "----\n",
      "  Leod            ;  Sabalme         ;  Eganika         ;  Jisoy           ;  Krinn           ;  Eurlin          ;  Fagry           ;  Kedne           ;  Chra            ;  Frudy            \n",
      "----\n",
      "Epoch 13 average loss = 1.01399439809\n",
      "Generated names\n",
      "----\n",
      "  Chartha         ;  Sharrtona       ;  Gewtte          ;  Sananne         ;  Nestmordeld     ;  Cunde           ;  Harelle         ;  Joiber          ;   Candea         ;  Zeon             \n",
      "----\n",
      "Epoch 14 average loss = 1.00510203727\n",
      "Generated names\n",
      "----\n",
      "  Trechandan      ;  Jemert          ;  Vistall         ;  Kilna           ;  Brud            ;  Avelle          ;  Eblied          ;  Alissal         ;  Carsar          ;  Alynto           \n",
      "----\n",
      "Epoch 15 average loss = 1.00155267085\n",
      "Generated names\n",
      "----\n",
      "  Chranny         ;  Tealar          ;  Bordelie        ;  Mathi           ;  Stylle          ;  Rete            ;  Flosha          ;  Ullee           ;  Chriss          ;  Uannettin        \n",
      "----\n",
      "Epoch 16 average loss = 0.997023722425\n",
      "Generated names\n",
      "----\n",
      "  Dondi           ;  Ferrise         ;  Tarin           ;  Deonnia         ;  Rane            ;  Batter          ;  Tellyn          ;  Dore            ;  Elena           ;  Lomotha          \n",
      "----\n",
      "Epoch 17 average loss = 0.993810551296\n",
      "Generated names\n",
      "----\n",
      "  Jerie           ;  Zaganne         ;  Rencol          ;  Eldeno          ;  Rakie           ;  Soberke         ;  Marfy           ;  Jomina          ;  Dony            ;  Lil              \n",
      "----\n",
      "Epoch 18 average loss = 0.991183937083\n",
      "Generated names\n",
      "----\n",
      "  Tafhie          ;  Lora            ;  Elles           ;  Filee           ;  Loadee          ;  Freendine       ;  Brybielt        ;  Fione           ;  Cars            ;  Marroine         \n",
      "----\n",
      "Epoch 19 average loss = 0.990267505777\n",
      "Generated names\n",
      "----\n",
      "  Bridanliann     ;  Savba           ;  Chyl            ;  Shlind          ;  Kiliene         ;  Sanjes          ;  Rour            ;  Imanhelty       ;  Fraf-Morsey     ;  Conchaco         \n",
      "----\n",
      "Epoch 20 average loss = 0.979678005966\n",
      "Generated names\n",
      "----\n",
      "  Luyena          ;  Nitny           ;  Marlel          ;  Matienn         ;  Jana            ;  Wibripha        ;  Beris           ;  Jender          ;  Millellana      ;  Habolice         \n",
      "----\n",
      "Epoch 21 average loss = 0.980947590592\n",
      "Generated names\n",
      "----\n",
      "  Saelane         ;  Minna           ;  Pag             ;  Bid             ;  Tadrune         ;  Joshi           ;  Bay             ;  Robia           ;  Jeermard        ;  Charne           \n",
      "----\n",
      "Epoch 22 average loss = 0.98223257297\n",
      "Generated names\n",
      "----\n",
      "  Loyds           ;  Laud            ;  Allichen        ;  Loans           ;  Shares          ;  Kika            ;  Karris          ;  Kay             ;  Doridi          ;  Whuv             \n",
      "----\n",
      "Epoch 23 average loss = 0.984664067622\n",
      "Generated names\n",
      "----\n",
      "  Gemandi         ;  Marsin          ;  Male            ;  Thar            ;  Edice           ;  Abritte         ;  Cals            ;  Thief           ;  Clarrel         ;  Arello           \n",
      "----\n",
      "Epoch 24 average loss = 0.970842804947\n",
      "Generated names\n",
      "----\n",
      "  Jegnee          ;  Bindy           ;  Kethar          ;  Carlann         ;  Ioryne          ;  Eriline         ;  Hana            ;  Todaina         ;  Cayda           ;  Marrien          \n",
      "----\n",
      "Epoch 25 average loss = 0.97304560104\n",
      "Generated names\n",
      "----\n",
      "  Elley           ;  Averie          ;  Jeonta          ;  Maserea         ;  Virlla          ;  Jendy           ;  Brar            ;  Hirdio          ;  Meroy           ;  Gvene            \n",
      "----\n",
      "Epoch 26 average loss = 0.973997450642\n",
      "Generated names\n",
      "----\n",
      "  Larley          ;  Certen          ;  Leerie          ;  Bartoby         ;  Arrillie        ;  Harnaona        ;  Katsanda        ;  Jahie           ;  Katisa          ;  Emola            \n",
      "----\n",
      "Epoch 27 average loss = 0.970217059695\n",
      "Generated names\n",
      "----\n",
      "  Raccalbie       ;  Martel          ;  Kirrie          ;  Scette          ;  Lanwie          ;  Dublina         ;  Sgadell         ;  Bana            ;  Artteet         ;  Mirgia           \n",
      "----\n",
      "Epoch 28 average loss = 0.971304548593\n",
      "Generated names\n",
      "----\n",
      "  Aantinette      ;  Puwison         ;  Guannse         ;  Thefry  o       ;  Mahgie          ;  Ishyne          ;  Kamtiosse       ;  Ludie           ;  Korole          ;  Rezbin           \n",
      "----\n",
      "Epoch 29 average loss = 0.969643364819\n",
      "Generated names\n",
      "----\n",
      "  Guvine          ;  Frnette         ;  Lisslyad        ;  Rieth           ;  Chare           ;  Duldo           ;  Zensy           ;  Pyffar          ;  Gilfa           ;  Kodris           \n",
      "----\n",
      "Epoch 30 average loss = 0.963812268131\n",
      "Generated names\n",
      "----\n",
      "  Bristia         ;  Lynari          ;  Juston          ;  Brannelyndo     ;  Dais            ;  Linette         ;  Tusmy           ;  Aresly          ;  Mauryl          ;  Ecily            \n",
      "----\n",
      "Epoch 31 average loss = 0.961593108163\n",
      "Generated names\n",
      "----\n",
      "  Bofka           ;  Kalania         ;  Trtanu          ;  Lewetke         ;  Roann           ;  Cathie          ;  Hasseo          ;  Kewna           ;  Mauri           ;  Linnelin         \n",
      "----\n",
      "Epoch 32 average loss = 0.961612425521\n",
      "Generated names\n",
      "----\n",
      "  Gryra           ;  Lauy            ;  Jomanno         ;  Melleen         ;  Mirelyn         ;  Trois           ;  Tefbie          ;  Pecura          ;  Daujon          ;  Stippy           \n",
      "----\n",
      "Epoch 33 average loss = 0.958251051282\n",
      "Generated names\n",
      "----\n",
      "  Carrind         ;  Bettey          ;  Shay            ;  Contlane        ;  Jesp            ;  Arthie          ;  Givia           ;  Kelelly         ;  Darnna          ;  Bab              \n",
      "----\n",
      "Epoch 34 average loss = 0.955188169112\n",
      "Generated names\n",
      "----\n",
      "  Ricka           ;  Mellis          ;  Adreo           ;  Zera            ;  Analle          ;  Zolasc          ;  Onders          ;  Waberla         ;  Chrystry        ;  Law              \n",
      "----\n",
      "Epoch 35 average loss = 0.95785768514\n",
      "Generated names\n",
      "----\n",
      "  Carlonth        ;  Roxotte         ;  Redalo          ;  Igan-Jacas      ;  Mole            ;  Ant             ;  Mara            ;  Sollion         ;  Florther        ;  Iruston          \n",
      "----\n",
      "Epoch 36 average loss = 0.951704527812\n",
      "Generated names\n",
      "----\n",
      "  Shelhie         ;  Malisar         ;  Heralol         ;  Jania           ;  Lurie           ;  Harkeak         ;  El hhann        ;  Shinna          ;  Dorala          ;  Hasie            \n",
      "----\n",
      "Epoch 37 average loss = 0.950195972763\n",
      "Generated names\n",
      "----\n",
      "  Condie          ;  Garrico         ;  Malene          ;  Cherith         ;  Moustanne       ;  Erwin           ;  Sulynst         ;  Jorlin          ;  Velisa          ;  Ilojeane         \n",
      "----\n",
      "Epoch 38 average loss = 0.949713539719\n",
      "Generated names\n",
      "----\n",
      "  Kanean          ;  Fancia          ;  Dabyn           ;  Leetha          ;  Jorshant        ;  Merry           ;  Mattisera       ;  Staquel         ;  Stanny          ;  Vanni            \n",
      "----\n",
      "Epoch 39 average loss = 0.960139015974\n",
      "Generated names\n",
      "----\n",
      "  Jelena          ;  Encora          ;  Lavie           ;  Roxyn           ;  Matrie          ;  Moreandree      ;  Catole          ;  Sher            ;  Estin           ;  Maysen           \n",
      "----\n",
      "Epoch 40 average loss = 0.950469987146\n",
      "Generated names\n",
      "----\n",
      "  Pichan          ;  Bengolen        ;  Cilli           ;  Marty           ;  Kally           ;  Mortoe          ;  Derinson        ;  Miref           ;  Penfinta        ;  Ranqneel         \n",
      "----\n",
      "Epoch 41 average loss = 0.945000582563\n",
      "Generated names\n",
      "----\n",
      "  Yolie           ;  Fianie          ;  Lymett          ;  Liurla          ;  Auda            ;  Feirlei         ;  Farm            ;  Karemia         ;  Welly           ;  Gyd              \n",
      "----\n",
      "Epoch 42 average loss = 0.945246216808\n",
      "Generated names\n",
      "----\n",
      "  Graena          ;  Chusi           ;  Luvin           ;  Annifiga        ;  Charicka        ;  Arson           ;  Morri           ;  Tutina          ;  Gravrii         ;  Meritha          \n",
      "----\n",
      "Epoch 43 average loss = 0.946262278693\n",
      "Generated names\n",
      "----\n",
      "  Olisia          ;  Jocelian        ;  Nibriston       ;  Alford          ;  Borrett         ;  Elomdo          ;  Window          ;  Alissosta       ;  Lunny           ;  Jobba            \n",
      "----\n",
      "Epoch 44 average loss = 0.950720082901\n",
      "Generated names\n",
      "----\n",
      "  Doi             ;  Jefflee         ;  Rezette         ;  Hutta           ;  Carleina        ;  Shellia         ;  Kendy           ;  Feryn           ;  Cthianne        ;  Stertettte       \n",
      "----\n",
      "Epoch 45 average loss = 0.94900823591\n",
      "Generated names\n",
      "----\n",
      "  Sley            ;  Cyno            ;  Burbella        ;  Berni           ;  Andya           ;  Prista          ;  Ibina           ;  Sabel           ;  Jacquild        ;  Neile            \n",
      "----\n",
      "Epoch 46 average loss = 0.947674301992\n",
      "Generated names\n",
      "----\n",
      "  Marisse         ;  Rordie          ;  Georgie         ;  Ervia           ;  Renn            ;  Frettere        ;  Taada           ;  Tossil          ;  Bejor           ;  Ishanie          \n",
      "----\n",
      "Epoch 47 average loss = 0.947516492409\n",
      "Generated names\n",
      "----\n",
      "  Clauisa         ;  Mariele         ;  Estas           ;  Belinn          ;  Arty            ;  Merrilie        ;  Linn            ;  Rhosen          ;  Meri            ;  Carree           \n",
      "----\n",
      "Epoch 48 average loss = 0.943931577071\n",
      "Generated names\n",
      "----\n",
      "  Isamaela        ;  Marthen         ;  Thay            ;  Nethi           ;  Andrayna        ;  Stacea          ;  Dolyn           ;  Erit            ;  Vawa            ;  Phellina         \n",
      "----\n",
      "Epoch 49 average loss = 0.939520063964\n",
      "Generated names\n",
      "----\n",
      "   Cansond        ;  Alwanny         ;  Flarli          ;  Jorielle        ;  Melrinna        ;  Bissalyn        ;  Wellon          ;  Perry           ;  Ierstan         ;  Michelle         \n",
      "----\n",
      "Epoch 50 average loss = 0.943895441192\n",
      "Generated names\n",
      "----\n",
      "  Maralyn         ;  Moti            ;  Weiffito        ;  Cathie          ;  Caralina        ;  Quynenta        ;  Leomarine       ;  Bareka          ;  Bentie          ;  Danell           \n",
      "----\n",
      "Epoch 51 average loss = 0.938222364619\n",
      "Generated names\n",
      "----\n",
      "  Loeger          ;  Marusef         ;  Bodert          ;  Bianel          ;  Vanondra        ;  Roni            ;  Marki           ;  Phannel         ;  Lari            ;  Torrin           \n",
      "----\n",
      "Epoch 52 average loss = 0.936989326561\n",
      "Generated names\n",
      "----\n",
      "  Gasia           ;  Gilwara         ;  Son             ;  Lowis           ;  Kellatt         ;  Joce            ;  Do              ;  Angelitad       ;  Endy            ;  Opleelin         \n",
      "----\n",
      "Epoch 53 average loss = 0.936910810179\n",
      "Generated names\n",
      "----\n",
      "  Degnett         ;  Himphryne       ;  Iudra           ;  Licque          ;  Lustethry       ;  Levin           ;  Lanie           ;  Ildetten        ;  Pidi            ;  Mackio           \n",
      "----\n",
      "Epoch 54 average loss = 0.940420606001\n",
      "Generated names\n",
      "----\n",
      "  Karnelly        ;  Kabfrin         ;  Sawaria         ;  Maresa          ;  Jevin           ;  Emilden         ;  Malae           ;  Carri           ;  Bened           ;  Pisla            \n",
      "----\n",
      "Epoch 55 average loss = 0.944921152676\n",
      "Generated names\n",
      "----\n",
      "  Rayganna        ;  Milla           ;  Langvallie      ;  Claurda         ;  Garlin          ;  Vliient         ;  Berney          ;  Dovaghro        ;  Restilia        ;  Guither          \n",
      "----\n",
      "Epoch 56 average loss = 0.932229394733\n",
      "Generated names\n",
      "----\n",
      "  Lallie          ;  Aldi            ;  Auriea          ;  Manialle        ;  Matnelie        ;  Rodie           ;  Danny           ;  Vency           ;  Thanabed        ;  Cerene           \n",
      "----\n",
      "Epoch 57 average loss = 0.943624284849\n",
      "Generated names\n",
      "----\n",
      "  Cerwin          ;  Marylyn         ;  Elay            ;  Yannee          ;  Derey           ;  Selia           ;  Tawie           ;  Flennie         ;  Delen           ;  Jesch            \n",
      "----\n",
      "Epoch 58 average loss = 0.932863549652\n",
      "Generated names\n",
      "----\n",
      "  Berti           ;  Zarla           ;  Delvit          ;  Daereke         ;  Corrella        ;  Lindiev         ;  Morste          ;  Joderd          ;  Linnie          ;  Lorona           \n",
      "----\n",
      "Epoch 59 average loss = 0.937278566833\n",
      "Generated names\n",
      "----\n",
      "  Nikianne        ;  Getha           ;  Elvin           ;  Jeurika         ;  Zand            ;  Martind         ;  Bryne           ;  Becfara         ;  Dontogn         ;  Brace            \n",
      "----\n",
      "Epoch 60 average loss = 0.932953524547\n",
      "Generated names\n",
      "----\n",
      "  Marthery        ;  Tulianna        ;  Panderone       ;  Maizo           ;  Vickalynte      ;  Frorie          ;  Thiritag        ;  Gerfoma         ;  Bebry           ;  Frerla           \n",
      "----\n",
      "Epoch 61 average loss = 0.936138245559\n",
      "Generated names\n",
      "----\n",
      "  Lolis           ;  Lecielyns       ;  Brieona         ;  Alyshell        ;  Buston          ;  Mayjorie        ;  Netty           ;  Tammari         ;  Lea             ;  Cherike          \n",
      "----\n",
      "Epoch 62 average loss = 0.937843648737\n",
      "Generated names\n",
      "----\n",
      "  Artharle        ;  Cherma          ;  Aulwo           ;  Ingie           ;  Sherca          ;  Recel           ;  Filiann         ;  Linnie          ;  Rotille         ;  Grod             \n",
      "----\n",
      "Epoch 63 average loss = 0.929237905986\n",
      "Generated names\n",
      "----\n",
      "  Rubbine         ;  Truney          ;  Claysa          ;  Chariahin       ;  Mirielle        ;  Zomeun          ;  Fleney          ;  Amsteah         ;  Gardany         ;  Feorbie          \n",
      "----\n",
      "Epoch 64 average loss = 0.933989805132\n",
      "Generated names\n",
      "----\n",
      "  Flynce          ;  Darny           ;  Nanny           ;  Galwirina       ;  Cyn             ;  Harnetc         ;  Daris           ;  Ausel           ;  Meliana         ;  Dorf             \n",
      "----\n",
      "Epoch 65 average loss = 0.931712759062\n",
      "Generated names\n",
      "----\n",
      "  Doren           ;  Jana            ;  Sica            ;  Carron          ;  Almel           ;  Bardorinh       ;  Emmi            ;  Marctieles      ;  Angie           ;  Mudene           \n",
      "----\n",
      "Epoch 66 average loss = 0.931577834865\n",
      "Generated names\n",
      "----\n",
      "  Mippetha        ;  Loraber         ;  Isan            ;  Rarlent         ;  Warven          ;  Klerfy          ;  Mareberina      ;  Macquys         ;  Vatlony         ;  Shurilla         \n",
      "----\n",
      "Epoch 67 average loss = 0.929615974749\n",
      "Generated names\n",
      "----\n",
      "  Clepfore        ;  Mioliniah       ;  Ellana          ;  ShNelle         ;  Elyanne         ;  Coth            ;  Yarlon          ;  Zarry           ;  Blozi           ;  Jilai            \n",
      "----\n",
      "Epoch 68 average loss = 0.925562622949\n",
      "Generated names\n",
      "----\n",
      "  Rhonnee         ;  Hanston         ;  Burtliella      ;  Nealy           ;  Susie           ;  Loren           ;  Lauradtle       ;  Storriss        ;  Salahar         ;  Rguctie          \n",
      "----\n",
      "Epoch 69 average loss = 0.928433003526\n",
      "Generated names\n",
      "----\n",
      "  Moryl           ;  Zakie           ;  Airradot        ;  Tiillia         ;  Iressa          ;  Maiga           ;  Di              ;  Joandma         ;  Jendrein        ;  Eussadielle      \n",
      "----\n",
      "Epoch 70 average loss = 0.927261241659\n",
      "Generated names\n",
      "----\n",
      "  Kian            ;  Nance           ;  Demaminee       ;  Crustinte       ;  Eldie           ;  Amalies         ;  Lorengert       ;  Fandie          ;  Rudd            ;  Cerrew           \n",
      "----\n",
      "Epoch 71 average loss = 0.931570432166\n",
      "Generated names\n",
      "----\n",
      "  Treycey         ;  Dilla           ;  Arnene          ;  Carylais        ;  Bristolie       ;  Harley          ;  Grad            ;  Rizky           ;  Fren            ;  Lista            \n",
      "----\n",
      "Epoch 72 average loss = 0.935873471677\n",
      "Generated names\n",
      "----\n",
      "  Gayna           ;  Talorda         ;  Johnera         ;  Miko            ;  Rubi            ;  Valaus          ;  Gishelee        ;  Maldie          ;  Reactee         ;  Marisa           \n",
      "----\n",
      "Epoch 73 average loss = 0.929469123238\n",
      "Generated names\n",
      "----\n",
      "  Kerner          ;  Fefalunioda     ;  Budette         ;  Adora           ;  Larales         ;  Trannaride      ;  Carilay         ;  Favinne         ;  Razsie          ;  Marissabillis    \n",
      "----\n",
      "Epoch 74 average loss = 0.926516632365\n",
      "Generated names\n",
      "----\n",
      "  Rutheleen       ;  Cilly           ;  Selmuk          ;  Ennerice        ;  Suelly          ;  Wasjedg         ;  Laygonge        ;  Rancor          ;  Loraly          ;  Mahal            \n",
      "----\n",
      "Epoch 75 average loss = 0.923461841523\n",
      "Generated names\n",
      "----\n",
      "  Denki           ;  Jerelie         ;  Mariet          ;  Koldellah       ;  Ceedrs ert      ;  Lwar            ;  Rezi            ;  Cericlena       ;  Beverine        ;  Catruiolal       \n",
      "----\n",
      "Epoch 76 average loss = 0.929762007804\n",
      "Generated names\n",
      "----\n",
      "  Pana            ;  Rin             ;  Maorase         ;  Ulbis           ;  Rhonne          ;  Isia            ;  Say             ;  Marcyndre       ;  Wora            ;  Alpha            \n",
      "----\n",
      "Epoch 77 average loss = 0.924124878486\n",
      "Generated names\n",
      "----\n",
      "  Jutor           ;  Barey           ;  Ovile           ;  Pordi           ;  Elyette         ;  Roxa            ;  Marcibe         ;  Philly          ;  Sasens          ;  Wilden           \n",
      "----\n",
      "Epoch 78 average loss = 0.925772957644\n",
      "Generated names\n",
      "----\n",
      "  Moshas          ;  Aldanard        ;  Tes             ;  Wyle            ;  Pamari          ;  Crista          ;  Girgina         ;  Barront         ;  Masce           ;  Marthes          \n",
      "----\n",
      "Epoch 79 average loss = 0.92802611235\n",
      "Generated names\n",
      "----\n",
      "  Dennia          ;  Lorrad          ;  Allospu         ;  Emelice         ;  Chryd           ;  Finnie          ;  Woline          ;  Gieda           ;  Shyle           ;  Ossee            \n",
      "----\n",
      "Epoch 80 average loss = 0.917956821421\n",
      "Generated names\n",
      "----\n",
      "  Firnine         ;  Liedra          ;  Larmon          ;  Karlyn          ;  Carlilla        ;  Gerene          ;  Wittina         ;  Wintin          ;  Herel           ;  Durta            \n",
      "----\n",
      "Epoch 81 average loss = 0.925454531983\n",
      "Generated names\n",
      "----\n",
      "  Andie           ;  Catlinna        ;  Faise           ;  Wyn             ;  Ninnis          ;  Hark            ;  Tievev          ;  Esmeonn         ;  Busmie          ;  Filly            \n",
      "----\n",
      "Epoch 82 average loss = 0.922344070386\n",
      "Generated names\n",
      "----\n",
      "  Alfiap          ;  Tewande         ;  Carri           ;  Efelia          ;  Gerco           ;  Celfey          ;  Ssela           ;  Tutal           ;  Kignio          ;  Thaioh           \n",
      "----\n",
      "Epoch 83 average loss = 0.922619737879\n",
      "Generated names\n",
      "----\n",
      "  Pid             ;  Tami            ;  Traque          ;  Lorey           ;  Cristia         ;  Elmif           ;  Pathie          ;  Bimin           ;  Mari            ;  Nattis           \n",
      "----\n",
      "Epoch 84 average loss = 0.922377823206\n",
      "Generated names\n",
      "----\n",
      "  Tomarore        ;  Fawqug          ;  Andestre        ;  Sathfond        ;  Osilena         ;  Ronand          ;  Hendie          ;  Vitta           ;  Marren          ;  Lise             \n",
      "----\n",
      "Epoch 85 average loss = 0.915649971837\n",
      "Generated names\n",
      "----\n",
      "  Cerrys          ;  Darilean        ;  Sildis          ;  Josy            ;  Gillia          ;  Tobyne          ;  Kynnus          ;  Rustid          ;  Adamain         ;  Hedah            \n",
      "----\n",
      "Epoch 86 average loss = 0.925017516567\n",
      "Generated names\n",
      "----\n",
      "  Catie           ;  Mynena          ;  Demyn           ;  Jackey          ;  Brataloy        ;  Patarie         ;  Carrite         ;  Gergila         ;  Tee             ;  Jenanda          \n",
      "----\n",
      "Epoch 87 average loss = 0.923213194819\n",
      "Generated names\n",
      "----\n",
      "  Dony            ;  Silfy           ;  Beesen          ;  Adolle          ;  Kigny           ;  Adisa           ;  Timdah          ;  Shea            ;  Valamon         ;  Norallinna       \n",
      "----\n",
      "Epoch 88 average loss = 0.924047428119\n",
      "Generated names\n",
      "----\n",
      "  Lipper          ;  Kilberle        ;  Bwitterta      A;  Felod           ;  Githol          ;  Clemyt          ;  Sachande        ;  Dona            ;  Vyn             ;  Alamanya         \n",
      "----\n",
      "Epoch 89 average loss = 0.925060448362\n",
      "Generated names\n",
      "----\n",
      "  Sherdanie       ;  Chnudy          ;  Geirette        ;  Ramonn          ;  Deudy           ;  Ilisa           ;  Gaolar          ;  Daysa           ;  Morcie          ;  Glot             \n",
      "----\n",
      "Epoch 90 average loss = 0.917229786565\n",
      "Generated names\n",
      "----\n",
      "  Sherny          ;  Sonny           ;  Saphery         ;  Richah          ;  Fricherd        ;  Colvan          ;  Andoell         ;  Entie           ;  Monsie          ;  Elisi            \n",
      "----\n",
      "Epoch 91 average loss = 0.925504747643\n",
      "Generated names\n",
      "----\n",
      "  Rossi           ;  Ywione          ;  Tofy            ;  Cherbry         ;  Franda          ;  Stacla          ;  Dorishe         ;  Jonial          ;  Sheli           ;  Vixo             \n",
      "----\n",
      "Epoch 92 average loss = 0.921534797876\n",
      "Generated names\n",
      "----\n",
      "  Jerrie          ;  Nacia           ;  Bedennelia      ;  Ebbarika        ;  Ottey           ;  Re ches         ;  Kapyeller       ;  Wailka          ;  Kicelie         ;  Linc             \n",
      "----\n",
      "Epoch 93 average loss = 0.918038728877\n",
      "Generated names\n",
      "----\n",
      "  Verbe           ;  Adeley          ;  Krysta          ;  Dondot          ;  Rachella        ;  Charitte        ;  Kristitte       ;  Bertlyn         ;  Zevel           ;  Chariston        \n",
      "----\n",
      "Epoch 94 average loss = 0.919331853975\n",
      "Generated names\n",
      "----\n",
      "  Lorrea          ;  Elaina          ;  Aphania         ;  Muddrina        ;  Valad           ;  Muci            ;  Dinnnie         ;  Dory            ;  Nacirice        ;  Ivamige          \n",
      "----\n",
      "Epoch 95 average loss = 0.920866523919\n",
      "Generated names\n",
      "----\n",
      "  Sussaceisa      ;  Ebrie           ;  Vick            ;  Robivy          ;  Kalleon         ;  Dondam          ;  Mirelia         ;  Thandre         ;  Aera            ;  Cilmus           \n",
      "----\n",
      "Epoch 96 average loss = 0.918452063927\n",
      "Generated names\n",
      "----\n",
      "  Noeria          ;  Izmid           ;  Niavann         ;  Phod            ;  Cley            ;  Nercice         ;  Rotty           ;  Ezys            ;  Kerie           ;  Caulynd          \n",
      "----\n",
      "Epoch 97 average loss = 0.919893768504\n",
      "Generated names\n",
      "----\n",
      "  Barci           ;  Stania          ;  Alfian          ;  Skel            ;  Olyn            ;  Lanson          ;  Suffre          ;  Toriton         ;  Gianaco         ;  Urnettp          \n",
      "----\n",
      "Epoch 98 average loss = 0.920953215832\n",
      "Generated names\n",
      "----\n",
      "  Grind           ;  Brandie         ;  Andrey          ;  Roula           ;  Tidiar          ;  Jammy           ;  Bittie          ;  Perrie          ;  Armert          ;  Robell           \n",
      "----\n",
      "Epoch 99 average loss = 0.916257522886\n"
     ]
    }
   ],
   "source": [
    "print(\"Training ...\")\n",
    "\n",
    "#total N iterations\n",
    "n_epochs=100\n",
    "\n",
    "# how many minibatches are there in the epoch \n",
    "batches_per_epoch = 500\n",
    "\n",
    "#how many training sequences are processed in a single function call\n",
    "batch_size=10\n",
    "\n",
    "for epoch in xrange(n_epochs):\n",
    "\n",
    "    print \"Generated names\"\n",
    "    generate_sample(n_snippets=10)\n",
    "\n",
    "    avg_cost = 0;\n",
    "    \n",
    "    for _ in range(batches_per_epoch):\n",
    "        \n",
    "        x,y = sample_batch(names_ix,batch_size)\n",
    "        avg_cost += train(x, y)\n",
    "        \n",
    "    print(\"Epoch {} average loss = {}\".format(epoch, avg_cost / batches_per_epoch))"
   ]
  },
  {
   "cell_type": "code",
   "execution_count": 20,
   "metadata": {
    "collapsed": false
   },
   "outputs": [
    {
     "name": "stdout",
     "output_type": "stream",
     "text": [
      "----\n",
      "  Elianna         ;  Regga           ;  Skelle          ;  Dela            ;  Lenn            ;  Melin           ;  Regette         ;  Limon           ;  Tinelle         ;  Stan             \n",
      "----\n"
     ]
    }
   ],
   "source": [
    "generate_sample(n_snippets=10,t=1.5)"
   ]
  },
  {
   "cell_type": "code",
   "execution_count": 21,
   "metadata": {
    "collapsed": false
   },
   "outputs": [
    {
     "name": "stdout",
     "output_type": "stream",
     "text": [
      "----\n",
      "  Putinea              ;  Putinne              ;  Putinie              ;  Putine               ;  Putine               ;  Putina               ;  Putina               ;  Putine               ;  Putinala             ;  Putine               ;  Putina               ;  Putina               ;  Putine               ;  Putin                ;  Putine               ;  Putina               ;  Putine               ;  Putina               ;  Putine               ;  Putino               ;  Putinand             ;  Putino               ;  Putine               ;  Putine               ;  Putinu               ;  Putine               ;  Putine               ;  Putinoe              ;  Putine               ;  Putina               ;  Putine               ;  Putina               ;  Putina               ;  Putina               ;  Putine               ;  Putine               ;  Putina               ;  Putine               ;  Putine               ;  Putina               ;  Putine               ;  Putin                ;  Putina               ;  Putine               ;  Putina               ;  Putinolla            ;  Putintian            ;  Putine               ;  Putine               ;  Putin                ;  Putine               ;  Putind               ;  Putine               ;  Putine               ;  Putinen              ;  Putinine             ;  Putino               ;  Putinta              ;  Putina               ;  Putin                ;  Putina               ;  Putine               ;  Putina               ;  Putinee              ;  Putina               ;  Putino               ;  Putine               ;  Putina               ;  Putine               ;  Putine               ;  Putiny               ;  Putine               ;  Putineu              ;  Putina               ;  Putine               ;  Putin                ;  Putina               ;  Putino               ;  Putinas              ;  Putinde              ;  Putine               ;  Putina               ;  Putine               ;  Putininal            ;  Putinne              ;  Putin                ;  Putine               ;  Putine               ;  Putinel              ;  Putine               ;  Putina               ;  Putine               ;  Putine               ;  Putinh               ;  Putine               ;  Putina               ;  Putinne              ;  Putine               ;  Putina               ;  Putina                \n",
      "----\n"
     ]
    }
   ],
   "source": [
    "generate_sample(seed_phrase=\" Putin\",n_snippets=100)"
   ]
  }
 ],
 "metadata": {
  "kernelspec": {
   "display_name": "Python 2",
   "language": "python",
   "name": "python2"
  },
  "language_info": {
   "codemirror_mode": {
    "name": "ipython",
    "version": 2
   },
   "file_extension": ".py",
   "mimetype": "text/x-python",
   "name": "python",
   "nbconvert_exporter": "python",
   "pygments_lexer": "ipython2",
   "version": "2.7.12"
  }
 },
 "nbformat": 4,
 "nbformat_minor": 0
}
