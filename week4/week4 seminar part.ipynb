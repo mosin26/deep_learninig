{
 "cells": [
  {
   "cell_type": "code",
   "execution_count": 1,
   "metadata": {
    "collapsed": false
   },
   "outputs": [],
   "source": [
    "import numpy as np\n",
    "import theano\n",
    "import theano.tensor as T\n",
    "import lasagne\n",
    "import os\n",
    "#thanks @keskarnitish"
   ]
  },
  {
   "cell_type": "markdown",
   "metadata": {},
   "source": [
    "# Generate names\n",
    "* Struggle to find a name for the variable? Let's see how you'll come up with a name for your son/daughter. Surely no human has expertize over what is a good child name, so let us train NN instead.\n",
    "* Dataset contains ~8k human names from different cultures[in latin transcript]\n",
    "* Objective (toy problem): learn a generative model over names."
   ]
  },
  {
   "cell_type": "code",
   "execution_count": 3,
   "metadata": {
    "collapsed": false
   },
   "outputs": [],
   "source": [
    "start_token = \" \"\n",
    "\n",
    "with open(\"names\") as f:\n",
    "    names = f.read()[:-1].split('\\n')\n",
    "    names = [start_token+name for name in names]"
   ]
  },
  {
   "cell_type": "code",
   "execution_count": 4,
   "metadata": {
    "collapsed": false
   },
   "outputs": [
    {
     "name": "stdout",
     "output_type": "stream",
     "text": [
      "n samples =  7944\n",
      " Abagael\n",
      " Claresta\n",
      " Glory\n",
      " Liliane\n",
      " Prissie\n",
      " Geeta\n",
      " Giovanne\n",
      " Piggy\n"
     ]
    }
   ],
   "source": [
    "print 'n samples = ',len(names)\n",
    "for x in names[::1000]:\n",
    "    print x"
   ]
  },
  {
   "cell_type": "markdown",
   "metadata": {},
   "source": [
    "# Text processing"
   ]
  },
  {
   "cell_type": "code",
   "execution_count": 6,
   "metadata": {
    "collapsed": false
   },
   "outputs": [
    {
     "name": "stdout",
     "output_type": "stream",
     "text": [
      "n_tokens =  55\n"
     ]
    }
   ],
   "source": [
    "#all unique characters go here\n",
    "tokens = set([c for name in names for c in name])\n",
    "\n",
    "tokens = list(tokens)\n",
    "print 'n_tokens = ',len(tokens)"
   ]
  },
  {
   "cell_type": "code",
   "execution_count": 7,
   "metadata": {
    "collapsed": false
   },
   "outputs": [],
   "source": [
    "#!token_to_id = <dictionary of symbol -> its identifier (index in tokens list)>\n",
    "token_to_id = {t:i for i,t in enumerate(tokens) }\n",
    "\n",
    "#!id_to_token = < dictionary of symbol identifier -> symbol itself>\n",
    "id_to_token = {i:t for i,t in enumerate(tokens)}"
   ]
  },
  {
   "cell_type": "code",
   "execution_count": 9,
   "metadata": {
    "collapsed": false
   },
   "outputs": [
    {
     "data": {
      "image/png": "[encoded data removed]",
      "text/plain": [
       "<matplotlib.figure.Figure at 0x7f738eaeb890>"
      ]
     },
     "metadata": {},
     "output_type": "display_data"
    }
   ],
   "source": [
    "import matplotlib.pyplot as plt\n",
    "%matplotlib inline\n",
    "plt.hist(map(len,names),bins=25);\n",
    "\n",
    "# truncate names longer than MAX_LEN characters. \n",
    "MAX_LEN = 10\n",
    "#ADJUST IF YOU ARE UP TO SOMETHING SERIOUS"
   ]
  },
  {
   "cell_type": "markdown",
   "metadata": {},
   "source": [
    "### Cast everything from symbols into identifiers"
   ]
  },
  {
   "cell_type": "code",
   "execution_count": 10,
   "metadata": {
    "collapsed": false
   },
   "outputs": [],
   "source": [
    "names_ix = list(map(lambda name: list(map(token_to_id.get,name)),names))\n",
    "\n",
    "\n",
    "#crop long names and pad short ones\n",
    "for i in range(len(names_ix)):\n",
    "    names_ix[i] = names_ix[i][:MAX_LEN] #crop too long\n",
    "    \n",
    "    if len(names_ix[i]) < MAX_LEN:\n",
    "        names_ix[i] += [token_to_id[\" \"]]*(MAX_LEN - len(names_ix[i])) #pad too short\n",
    "        \n",
    "assert len(set(map(len,names_ix)))==1\n",
    "\n",
    "names_ix = np.array(names_ix)"
   ]
  },
  {
   "cell_type": "markdown",
   "metadata": {},
   "source": [
    "# Input variables"
   ]
  },
  {
   "cell_type": "code",
   "execution_count": 11,
   "metadata": {
    "collapsed": true
   },
   "outputs": [],
   "source": [
    "input_sequence = T.matrix('token sequencea','int32')\n",
    "target_values = T.matrix('actual next token','int32')"
   ]
  },
  {
   "cell_type": "markdown",
   "metadata": {},
   "source": [
    "# Build NN\n",
    "\n",
    "You will be building a model that takes token sequence and predicts next token\n",
    "\n",
    "\n",
    "* iput sequence\n",
    "* one-hot / embedding\n",
    "* recurrent layer(s)\n",
    "* otput layer(s) that predict output probabilities\n"
   ]
  },
  {
   "cell_type": "code",
   "execution_count": 12,
   "metadata": {
    "collapsed": true
   },
   "outputs": [],
   "source": [
    "from lasagne.layers import InputLayer,DenseLayer,EmbeddingLayer\n",
    "from lasagne.layers import RecurrentLayer,LSTMLayer,GRULayer,CustomRecurrentLayer"
   ]
  },
  {
   "cell_type": "code",
   "execution_count": 13,
   "metadata": {
    "collapsed": false
   },
   "outputs": [],
   "source": [
    "l_in = lasagne.layers.InputLayer(shape=(None, None),input_var=input_sequence)\n",
    "\n",
    "#!<Your neural network>\n",
    "l_emb = EmbeddingLayer(l_in, len(tokens), 30)\n",
    "\n",
    "l_rnn = RecurrentLayer(l_emb, 40, nonlinearity=lasagne.nonlinearities.tanh)\n",
    "\n",
    "#flatten batch and time to be compatible with feedforward layers (will un-flatten later)\n",
    "l_rnn_flat = lasagne.layers.reshape(l_rnn, (-1,l_rnn.output_shape[-1]))\n",
    "\n",
    "l_out = DenseLayer(l_rnn_flat, len(tokens), nonlinearity=lasagne.nonlinearities.softmax)"
   ]
  },
  {
   "cell_type": "code",
   "execution_count": 14,
   "metadata": {
    "collapsed": false
   },
   "outputs": [
    {
     "name": "stdout",
     "output_type": "stream",
     "text": [
      "[W, input_to_hidden.W, input_to_hidden.b, hidden_to_hidden.W, W, b]\n"
     ]
    }
   ],
   "source": [
    "# Model weights\n",
    "weights = lasagne.layers.get_all_params(l_out,trainable=True)\n",
    "print weights"
   ]
  },
  {
   "cell_type": "code",
   "execution_count": 15,
   "metadata": {
    "collapsed": false
   },
   "outputs": [],
   "source": [
    "network_output = lasagne.layers.get_output(l_out)\n",
    "#If you use dropout do not forget to create deterministic version for evaluation"
   ]
  },
  {
   "cell_type": "code",
   "execution_count": 17,
   "metadata": {
    "collapsed": false
   },
   "outputs": [],
   "source": [
    "predicted_probabilities_flat = network_output\n",
    "correct_answers_flat = target_values.ravel()\n",
    "\n",
    "loss = lasagne.objectives.categorical_crossentropy(predicted_probabilities_flat,correct_answers_flat).mean()\n",
    "\n",
    "updates = lasagne.updates.sgd(loss,weights,learning_rate=0.01)"
   ]
  },
  {
   "cell_type": "markdown",
   "metadata": {},
   "source": [
    "# Compiling it"
   ]
  },
  {
   "cell_type": "code",
   "execution_count": 18,
   "metadata": {
    "collapsed": false
   },
   "outputs": [],
   "source": [
    "#training\n",
    "train = theano.function([input_sequence, target_values], loss, updates=updates, allow_input_downcast=True)\n",
    "\n",
    "#computing loss without training\n",
    "compute_cost = theano.function([input_sequence, target_values], loss, allow_input_downcast=True)"
   ]
  },
  {
   "cell_type": "markdown",
   "metadata": {},
   "source": [
    "# generation\n",
    "\n",
    "Simple: \n",
    "* get initial context(seed), \n",
    "* predict next token probabilities,\n",
    "* sample next token, \n",
    "* add it to the context\n",
    "* repeat from step 2\n",
    "\n",
    "You'll get a more detailed info on how it works in the homework section."
   ]
  },
  {
   "cell_type": "code",
   "execution_count": 19,
   "metadata": {
    "collapsed": true
   },
   "outputs": [],
   "source": [
    "#compile the function that computes probabilities for next token given previous text.\n",
    "\n",
    "#reshape back into original shape\n",
    "next_word_probas = network_output.reshape((input_sequence.shape[0],input_sequence.shape[1],len(tokens)))\n",
    "#predictions for next tokens (after sequence end)\n",
    "last_word_probas = next_word_probas[:,-1]\n",
    "probs = theano.function([input_sequence],last_word_probas,allow_input_downcast=True)"
   ]
  },
  {
   "cell_type": "code",
   "execution_count": 20,
   "metadata": {
    "collapsed": false
   },
   "outputs": [],
   "source": [
    "def generate_sample(seed_phrase=None,N=MAX_LEN,t=1,n_snippets=1):\n",
    "    '''\n",
    "    The function generates text given a phrase of length at least SEQ_LENGTH.\n",
    "        \n",
    "    parameters:\n",
    "        sample_fun - max_ or proportional_sample_fun or whatever else you implemented\n",
    "        \n",
    "        The phrase is set using the variable seed_phrase\n",
    "\n",
    "        The optional input \"N\" is used to set the number of characters of text to predict.     \n",
    "    '''\n",
    "    if seed_phrase is None:\n",
    "        seed_phrase=start_token\n",
    "    if len(seed_phrase) > MAX_LEN:\n",
    "        seed_phrase = seed_phrase[-MAX_LEN:]\n",
    "    assert type(seed_phrase) is str\n",
    "\n",
    "    snippets = []\n",
    "    for _ in range(n_snippets):\n",
    "        sample_ix = []\n",
    "        x = map(lambda c: token_to_id.get(c,0), seed_phrase)\n",
    "        x = np.array([x])\n",
    "\n",
    "        for i in range(N):\n",
    "            # Pick the character that got assigned the highest probability\n",
    "            p = probs(x).ravel()\n",
    "            p = p**t / np.sum(p**t)\n",
    "            ix = np.random.choice(np.arange(len(tokens)),p=p)\n",
    "            sample_ix.append(ix)\n",
    "\n",
    "            x = np.hstack((x[-MAX_LEN+1:],[[ix]]))\n",
    "\n",
    "        random_snippet = seed_phrase + ''.join(id_to_token[ix] for ix in sample_ix)    \n",
    "        snippets.append(random_snippet)\n",
    "        \n",
    "    print(\"----\\n %s \\n----\" % '; '.join(snippets))"
   ]
  },
  {
   "cell_type": "markdown",
   "metadata": {},
   "source": [
    "# Model training\n",
    "\n",
    "Here you can tweak parameters or insert your generation function\n",
    "\n",
    "\n",
    "__Once something word-like starts generating, try increasing seq_length__\n",
    "\n"
   ]
  },
  {
   "cell_type": "code",
   "execution_count": 21,
   "metadata": {
    "collapsed": true
   },
   "outputs": [],
   "source": [
    "def sample_batch(data, batch_size):\n",
    "    \n",
    "    rows = data[np.random.randint(0,len(data),size=batch_size)]\n",
    "    \n",
    "    return rows[:,:-1],rows[:,1:]"
   ]
  },
  {
   "cell_type": "code",
   "execution_count": null,
   "metadata": {
    "collapsed": false
   },
   "outputs": [
    {
     "name": "stdout",
     "output_type": "stream",
     "text": [
      "Training ...\n",
      "Generated names\n",
      "----\n",
      "   wjwHsr'QF;  mnczgpaYvF;  'O tlibUUX;  ujsbdOTzVn;  mcPLZoKMAf;  K'FvuVrnzW;  TGkZOVqrHd;  HGRgpX mQI;  hgObOoWpAO;  oHPilJDobi \n",
      "----\n",
      "Epoch 0 average loss = 3.2060846796\n",
      "Generated names\n",
      "----\n",
      "  nY Bh  j e;  jUAG   Jr ;  tg   A  nP;  AWjf  a en;  iv d a i n;  Qama Qdu  ;  sXul i s u;  rd  ai    ;  w- dB ii r;  Hi      rl \n",
      "----\n",
      "Epoch 1 average loss = 2.64227847682\n",
      "Generated names\n",
      "----\n",
      "  JYRtC r  T;  F GPUl   O;  qjr   a e-;  MfahH GM  ;  uLeoLr ii ;   ic V nena;  lp aivBlH ;  nzlu a  re;  J a a e if;   ah ne e   \n",
      "----\n",
      "Epoch 2 average loss = 2.51085075482\n",
      "Generated names\n",
      "----\n",
      "  U'yti Sn  ;  Eiteii  n ;  teye fe e ;  pe FeM   i;  yYirn e n ;  Ds'ate n  ;  sCYci  e  ;  F Inn     ;  pCeny ss  ;  tyiya      \n",
      "----\n",
      "Epoch 3 average loss = 2.4178942103\n",
      "Generated names\n",
      "----\n",
      "  mtinyn r  ;  qyMIoei   ;  KFJs e    ;  vVaiwe   i;  uSatili   ;  iaEdOn    ;  htQeh     ;  ywnrZ     ;  TUeeeol   ;  unie e     \n",
      "----\n",
      "Epoch 4 average loss = 2.36325370339\n",
      "Generated names\n",
      "----\n",
      "  LwtAhPa r ;  ujuddk    ;  BIAot     ;  ialrsi    ;  AarrDi    ;  CrRce     ;  pdaeea  e ;  hmrs e   n;  Ge a a    ;  uArnre     \n",
      "----\n",
      "Epoch 5 average loss = 2.32447513531\n",
      "Generated names\n",
      "----\n",
      "  aun l     ;  JZati     ;  'olaas    ;  lr-al     ;  hTres     ;  aaVe      ;  enilO     ;  Qper e    ;  cBiere    ;  pydiln     \n",
      "----\n",
      "Epoch 6 average loss = 2.2885732988\n",
      "Generated names\n",
      "----\n",
      "  larerlb   ;  ehihil    ;  iirmil    ;  Baeist    ;  Cbitae    ;   dambl  n ;  zdCenyl   ;  LEalxaa  a;  ntelrd e  ;  yaenre r   \n",
      "----\n",
      "Epoch 7 average loss = 2.24663996027\n",
      "Generated names\n",
      "----\n",
      "  MAoke    e;  ilrrn     ;  laenat a  ;  yanrn o   ;  rmriiy  e ;  diMa      ;  r-holri   ;  FysaAet   ;  Yyerno    ;  Srlni      \n",
      "----\n",
      "Epoch 8 average loss = 2.22373589455\n",
      "Generated names\n",
      "----\n",
      "  nmalit    ;  aVernitt  ;  Plelnlq   ;  lWehst    ;  Nai- nd   ;  segan l   ;  oaaeli    ;  wItae     ;  Phiyll    ;  Nildho     \n",
      "----\n",
      "Epoch 9 average loss = 2.16905821844\n",
      "Generated names\n",
      "----\n",
      "  Nihare s  ;  Dcyea     ;  Beyaee    ;  Djri h    ;    r       ;  airn      ;  EVtei     ;  aprrlSi   ;  Caoyim    ;  Kdyn       \n",
      "----\n",
      "Epoch 10 average loss = 2.13802426958\n",
      "Generated names\n",
      "----\n",
      "  argli m   ;  Llbym     ;  hoceomio  ;  oisve     ;  'odene    ;  cOosi  a  ;  Iuolnin   ;  Etrb      ;  OAoeailn  ;  eIiilaie   \n",
      "----\n",
      "Epoch 11 average loss = 2.10290537292\n",
      "Generated names\n",
      "----\n",
      "  Jararn    ;  bektgiann ;  Eaaaeg    ;  Erntif    ;  Eyal      ;  CEbam     ;  TrciLFpe  ;  Vne       ;  CMlFk     ;  iccee      \n",
      "----\n",
      "Epoch 12 average loss = 2.08633580469\n",
      "Generated names\n",
      "----\n",
      "  Mpvuia    ;   wid      ;  Reunrneai ;  Faaiaee   ;  Melrc     ;  Earmeeaia ;  Baest     ;   Drdn     ;  nhunira   ;  Aaasry     \n",
      "----\n",
      "Epoch 13 average loss = 2.05987186046\n",
      "Generated names\n",
      "----\n",
      "  Dlyltn    ;  vbiedtare ;  xiete     ;  Donlnoe   ;  Melnc     ;  Admrn     ;  -dcee     ;  Rarsrne   ;  ladyi     ;  Baht       \n",
      "----\n",
      "Epoch 14 average loss = 2.04130920553\n",
      "Generated names\n",
      "----\n",
      "  idsdea    ;  qrycan    ;  Vernse    ;  fpree     ;  Wasdkj    ;  SEraite   ;  Toene     ;  Waoere    ;  Riaite    ;  Movlenie   \n",
      "----\n",
      "Epoch 15 average loss = 2.02139501545\n",
      "Generated names\n",
      "----\n",
      "  Yhrrscvkbi;  JaEee     ;  Firen     ;   ran      ;  CQhdna    ;  Toina     ;  Fibte     ;  Jieneo    ;  Xyyrd     ;  klucta     \n",
      "----\n",
      "Epoch 16 average loss = 2.01329316558\n",
      "Generated names\n",
      "----\n",
      "  Yaln      ;  Lasta     ;  uobd      ;  Lhuniy    ;  Clihr     ;  Mclailctnh;  rauhdi    ;  lEelre    ;  Mirtity   ;  XAinell    \n",
      "----\n",
      "Epoch 17 average loss = 2.01248519826\n",
      "Generated names\n",
      "----\n",
      "  vare      ;  Kabmn     ;  Hlllnltrir;  Hrezea    ;  Eewrs     ;  Brrnnei   ;  Noyy      ;  Resle     ;  FLnsna    ;  Kegis      \n",
      "----\n",
      "Epoch 18 average loss = 1.98853700747\n",
      "Generated names\n",
      "----\n",
      "  Rhraio    ;  Heme      ;  Sriratettu;  Telmnre   ;  Haliia    ;  E-ltita   ;  Voky      ;  PJiay     ;  Phals     ;  CDeneg     \n",
      "----\n",
      "Epoch 19 average loss = 1.99768051544\n",
      "Generated names\n",
      "----\n",
      "  Jiei      ;  Mhinm     ;  Tdiori    ;  Ahhinxt   ;  Iaenh     ;  Lrrler    ;  Tiymnne   ;  Eymfee    ;  MaieaFa   ;  Wabesw     \n",
      "----\n",
      "Epoch 20 average loss = 1.9792871293\n",
      "Generated names\n",
      "----\n",
      "  Ehacie    ;  Garbllnnnn;   erda     ;  Corertia  ;  Kyue      ;  Lanon     ;  Nildnn    ;  Heritlola ;  Smbie     ;  Delanyd    \n",
      "----\n",
      "Epoch 21 average loss = 1.97747670085\n",
      "Generated names\n",
      "----\n",
      "  Rrt       ;  Moedistien;  Nanoe     ;  Aeles     ;  Gatra     ;  Joen      ;  Eninea    ;  Cinyy     ;  Lscra     ;  Jeuldsa    \n",
      "----\n",
      "Epoch 22 average loss = 1.98244478526\n",
      "Generated names\n",
      "----\n",
      "  Iarrniu   ;  Janlm     ;  Jaiba     ;  Aannlarnn ;  Tare      ;  Botvnl    ;  Asdlta    ;  Jaedda    ;  Cunna     ;  Fidta      \n",
      "----\n",
      "Epoch 23 average loss = 1.97513624638\n",
      "Generated names\n",
      "----\n",
      "  Hatyiu    ;  Eeni      ;  Roryl     ;  Cdpnaryo  ;  Couialihra;  Vdcy      ;  Kiica     ;  Mhurpeo   ;  Gote      ;  Wugkta     \n",
      "----\n",
      "Epoch 24 average loss = 1.96992277616\n",
      "Generated names\n",
      "----\n",
      "  Stn       ;  Terta     ;  Blbnos    ;  Jalyni    ;  Nacna     ;  Soybetb   ;  Soeie     ;  Jolta     ;  Lanlh     ;  Foag       \n",
      "----\n",
      "Epoch 25 average loss = 1.96720487679\n",
      "Generated names\n",
      "----\n",
      "  Kelal     ;  Hovde     ;  Merqssiny ;  Shlhmiart ;  Leblri    ;  Wonr      ;  Airn      ;  Lytaka    ;  AinaUn    ;  Drnsna     \n",
      "----\n",
      "Epoch 26 average loss = 1.94419098457\n",
      "Generated names\n",
      "----\n",
      "  Daitnssne ;  Tnvktlta  ;  Hays      ;  Sre       ;  Coehae    ;  Qrodlyl   ;  Eadeoe    ;  Sulgtea   ;  Joisne    ;  Eeaio      \n",
      "----\n",
      "Epoch 27 average loss = 1.97268777946\n",
      "Generated names\n",
      "----\n",
      "  MaAnsea   ;  Dentienca ;  Kunfeee   ;  Loceti    ;  Gadts     ;  Juenta    ;  Wirif     ;  Igrante   ;  DrleXe    ;  Aeelglrvyn \n",
      "----\n",
      "Epoch 28 average loss = 1.94833360973\n",
      "Generated names\n",
      "----\n",
      "  Argre     ;  Yai       ;  Maly      ;  YevTi     ;  Saasr     ;  Narttm    ;  Aiaalnsne ;  Miaa      ;  Srdna     ;  Koonalerne \n",
      "----\n",
      "Epoch 29 average loss = 1.95305602034\n",
      "Generated names\n",
      "----\n",
      "  Bloen     ;  Saral     ;  Nnoga     ;  Chafy     ;  Plmha-    ;  Norga     ;  Gcinne    ;  Tnsa      ;  Asary     ;  Bamedbe    \n",
      "----\n",
      "Epoch 30 average loss = 1.95227286739\n",
      "Generated names\n",
      "----\n",
      "  Manlihn   ;  Hihve     ;  Caa       ;  Malda     ;  Ailone    ;  Gihay     ;  Aakome    ;  Tar       ;  Cinbte    ;  fuercena   \n",
      "----\n",
      "Epoch 31 average loss = 1.95588751211\n",
      "Generated names\n",
      "----\n",
      "  Tar       ;  Ferirtoa  ;  Tilutie   ;  Laavirpda ;  Maodlgen  ;  Konys ra  ;  Poan      ;  Whally    ;  Rdcline   ;  Cf         \n",
      "----\n",
      "Epoch 32 average loss = 1.94485696218\n",
      "Generated names\n",
      "----\n",
      "  Kera      ;  Brlsare   ;  Fiyctsa   ;  Ihclgo    ;  Tolbnta   ;  Anerne    ;  Wanalke   ;  Kodl      ;  Plnsten   ;  Mekea      \n",
      "----\n",
      "Epoch 33 average loss = 1.93574902517\n",
      "Generated names\n",
      "----\n",
      "  Ransrine  ;  Ferezse   ;  Airne     ;  Maloe     ;  Hidita na ;  Celsaa    ;  Gora      ;  Dewori    ;  Eelbinea  ;  RErale     \n",
      "----\n",
      "Epoch 34 average loss = 1.9241717805\n",
      "Generated names\n",
      "----\n",
      "  Rarien    ;  Cera      ;  Suliide   ;  Jociny    ;  Sedalitc  ;  Jloha     ;  Fanina    ;  Fadibva   ;  Setalia   ;  Airega     \n",
      "----\n",
      "Epoch 35 average loss = 1.91202028896\n",
      "Generated names\n",
      "----\n",
      "  Domma     ;  Reboli    ;  Mebdse    ;  Koage     ;  Hiriha    ;  Rdse      ;  Eodix     ;  Meli      ;  Midoa     ;  Roerare    \n",
      "----\n",
      "Epoch 36 average loss = 1.92388923271\n",
      "Generated names\n",
      "----\n",
      "  Tnsgda    ;  Ebezntbat ;  Cilomda   ;  Oortil    ;  Majie n   ;  Srldstfde ;  Jarhralno ;  Fees      ;  Cesdarien ;  Lahl       \n",
      "----\n",
      "Epoch 37 average loss = 1.91781947177\n",
      "Generated names\n",
      "----\n",
      "  Rannanlo  ;  Tdklla    ;  Prcinn    ;  Jasana    ;  Ontsi     ;  Cnana     ;  Clcry     ;  Fhetera   ;  Firnoa    ;  Septan     \n",
      "----\n",
      "Epoch 38 average loss = 1.8949254526\n",
      "Generated names\n",
      "----\n",
      "  BaXonlrih ;  Sodtoa    ;  EAniwue   ;  Kvnee     ;  Llid      ;  Dendne    ;  Dalyyni   ;  Jeytaoad  ;  Surarede  ;  Ghlase     \n",
      "----\n",
      "Epoch 39 average loss = 1.90333050732\n",
      "Generated names\n",
      "----\n",
      "  Sapla     ;  Belonane  ;  DseGo     ;  Matehotdia;  Kinena    ;  Sotceca   ;  Ansacren  ;  Heagoi    ;  Jemlt     ;  Phalanli   \n",
      "----\n",
      "Epoch 40 average loss = 1.90641837258\n",
      "Generated names\n",
      "----\n",
      "  Alilgys   ;  Konit     ;  Sance     ;  Kirfanf   ;  Heresa    ;  Lerii     ;  Naruzre   ;  Lati      ;  Miria     ;  Smd        \n",
      "----\n",
      "Epoch 41 average loss = 1.88831711802\n",
      "Generated names\n",
      "----\n",
      "  Lirle     ;  Velie     ;  Dlibiena  ;  Xorwas    ;  Fiyrez    ;  Suntisi   ;  TMily     ;  RieB      ;  Vaa       ;  Doteno     \n",
      "----\n",
      "Epoch 42 average loss = 1.89677721423\n",
      "Generated names\n",
      "----\n",
      "  Carar     ;  Tarrite   ;  Sem       ;  Laretag   ;  Cssct     ;  Saliasn   ;  Vurie     ;  Gegy      ;  Dlanfe    ;  Rerdf      \n",
      "----\n",
      "Epoch 43 average loss = 1.89763502379\n",
      "Generated names\n",
      "----\n",
      "  Sole      ;  Irtiloe   ;  Fobidnco  ;  Dawd      ;  Ndalizly  ;  Oisba     ;  Locdiinnda;  Gellein   ;  Zhre      ;  Heulse     \n",
      "----\n",
      "Epoch 44 average loss = 1.88230623743\n",
      "Generated names\n",
      "----\n",
      "  Heti      ;  Woeona    ;  Gare      ;  Iexte     ;  Bocat     ;  Rlnrilenr ;  Geri      ;  Gallela   ;  Nerykx-a  ;  Khbita     \n",
      "----\n",
      "Epoch 45 average loss = 1.88806776545\n",
      "Generated names\n",
      "----\n",
      "  Rrtyn     ;  Meckile   ;  Llada     ;  Dadida    ;  Hhoa t    ;  Womteso   ;  Sarina    ;  Rer       ;  Ahy       ;  Khia       \n",
      "----\n",
      "Epoch 46 average loss = 1.88062033953\n",
      "Generated names\n",
      "----\n",
      "  Wadmta    ;  Grik      ;  E         ;  Behaly   n;  Bhden     ;  Sogde     ;  Julta     ;  uende     ;  Botdi     ;  Ahlesst    \n",
      "----\n",
      "Epoch 47 average loss = 1.8877729771\n",
      "Generated names\n",
      "----\n",
      "  Olapnara  ;  Lhlinna   ;  Sodca     ;  Veriento  ;  Jriclen   ;  Aisale    ;  Srittisa  ;  Roberevy  ;  Iur       ;  Adci       \n",
      "----\n",
      "Epoch 48 average loss = 1.88949790416\n",
      "Generated names\n",
      "----\n",
      "  Cattatiua ;  Bri       ;  Blasnc    ;  Mnys      ;  Sirlahten ;  Lemba     ;  Lersee    ;  Ogantene  ;  Iengsidl  ;  Rerhtie    \n",
      "----\n",
      "Epoch 49 average loss = 1.87754524091\n",
      "Generated names\n",
      "----\n",
      "  Lialt     ;  Aumena    ;  Kllii     ;  Sltisi    ;  Wlany     ;  Jlan      ;  Locvi     ;  Gallaen   ;  Tirmela   ;  Klcfonua   \n",
      "----\n"
     ]
    }
   ],
   "source": [
    "print(\"Training ...\")\n",
    "\n",
    "#total N iterations\n",
    "n_epochs=100\n",
    "\n",
    "# how many minibatches are there in the epoch \n",
    "batches_per_epoch = 500\n",
    "\n",
    "#how many training sequences are processed in a single function call\n",
    "batch_size=10\n",
    "\n",
    "for epoch in xrange(n_epochs):\n",
    "\n",
    "    print \"Generated names\"\n",
    "    generate_sample(n_snippets=10)\n",
    "\n",
    "    avg_cost = 0;\n",
    "    \n",
    "    for _ in range(batches_per_epoch):\n",
    "        \n",
    "        x,y = sample_batch(names_ix,batch_size)\n",
    "        avg_cost += train(x, y)\n",
    "        \n",
    "    print(\"Epoch {} average loss = {}\".format(epoch, avg_cost / batches_per_epoch))"
   ]
  },
  {
   "cell_type": "code",
   "execution_count": null,
   "metadata": {
    "collapsed": false
   },
   "outputs": [],
   "source": [
    "generate_sample(n_snippets=100)"
   ]
  },
  {
   "cell_type": "code",
   "execution_count": null,
   "metadata": {
    "collapsed": true
   },
   "outputs": [],
   "source": [
    "generate_sample(seed=\" A\")"
   ]
  }
 ],
 "metadata": {
  "kernelspec": {
   "display_name": "Python 2",
   "language": "python",
   "name": "python2"
  },
  "language_info": {
   "codemirror_mode": {
    "name": "ipython",
    "version": 2
   },
   "file_extension": ".py",
   "mimetype": "text/x-python",
   "name": "python",
   "nbconvert_exporter": "python",
   "pygments_lexer": "ipython2",
   "version": "2.7.12"
  }
 },
 "nbformat": 4,
 "nbformat_minor": 0
}
